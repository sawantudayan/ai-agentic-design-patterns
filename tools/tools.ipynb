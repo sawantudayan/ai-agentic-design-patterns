{
  "nbformat": 4,
  "nbformat_minor": 0,
  "metadata": {
    "colab": {
      "provenance": [],
      "authorship_tag": "ABX9TyPv6T57adZxHkCeA9gwcFbz",
      "include_colab_link": true
    },
    "kernelspec": {
      "name": "python3",
      "display_name": "Python 3"
    },
    "language_info": {
      "name": "python"
    }
  },
  "cells": [
    {
      "cell_type": "markdown",
      "metadata": {
        "id": "view-in-github",
        "colab_type": "text"
      },
      "source": [
        "<a href=\"https://colab.research.google.com/github/sawantudayan/ai-agentic-design-patterns/blob/feature4%2Ftools/Untitled0.ipynb\" target=\"_parent\"><img src=\"https://colab.research.google.com/assets/colab-badge.svg\" alt=\"Open In Colab\"/></a>"
      ]
    },
    {
      "cell_type": "markdown",
      "source": [
        "# **Tool Use & COnversational Chess**"
      ],
      "metadata": {
        "id": "_GY69RuwMbzA"
      }
    },
    {
      "cell_type": "code",
      "source": [
        "llm_config = {\"model\": \"gpt-4-turbo\"}\n",
        "\n",
        "import chess\n",
        "import chess.svg\n",
        "from typing_extensions import Annotated"
      ],
      "metadata": {
        "id": "u1NYxnzEMh11"
      },
      "execution_count": null,
      "outputs": []
    },
    {
      "cell_type": "markdown",
      "source": [
        "# **Initializing Chess Board**"
      ],
      "metadata": {
        "id": "0srKgtAnMwxx"
      }
    },
    {
      "cell_type": "code",
      "source": [
        "board = chess.Board()\n",
        "made_move = False"
      ],
      "metadata": {
        "id": "Wu1MdRcyM3Vw"
      },
      "execution_count": null,
      "outputs": []
    },
    {
      "cell_type": "markdown",
      "source": [
        "# **Defining Tools**"
      ],
      "metadata": {
        "id": "oKOqnoAiM9dU"
      }
    },
    {
      "cell_type": "markdown",
      "source": [
        "**Tool for getting legal moves**"
      ],
      "metadata": {
        "id": "la3ii5DBNIVg"
      }
    },
    {
      "cell_type": "code",
      "source": [
        "def get_legal_moves(\n",
        "\n",
        ") -> Annotated[str, \"A list of legal moves in UCI format\"]:\n",
        "    return \"Possible moves are: \" + \",\".join(\n",
        "        [str(move) for move in board.legal_moves]\n",
        "    )"
      ],
      "metadata": {
        "id": "qdxG7KHgNAaU"
      },
      "execution_count": null,
      "outputs": []
    },
    {
      "cell_type": "markdown",
      "source": [
        "**Tool for making a move on the chess board**"
      ],
      "metadata": {
        "id": "cmHLUFrXNPXM"
      }
    },
    {
      "cell_type": "code",
      "source": [
        "def make_move(\n",
        "    move: Annotated[str, \"A move in UCI format.\"]\n",
        ") -> Annotated[str, \"Result of the move.\"]:\n",
        "    move = chess.Move.from_uci(move)\n",
        "    board.push_uci(str(move))\n",
        "    global made_move\n",
        "    made_move = True\n",
        "\n",
        "    # Display the board.\n",
        "    display(\n",
        "        chess.svg.board(\n",
        "            board,\n",
        "            arrows=[(move.from_square, move.to_square)],\n",
        "            fill={move.from_square: \"gray\"},\n",
        "            size=200\n",
        "        )\n",
        "    )\n",
        "\n",
        "    # Get the piece name.\n",
        "    piece = board.piece_at(move.to_square)\n",
        "    piece_symbol = piece.unicode_symbol()\n",
        "    piece_name = (\n",
        "        chess.piece_name(piece.piece_type).capitalize()\n",
        "        if piece_symbol.isupper()\n",
        "        else chess.piece_name(piece.piece_type)\n",
        "    )\n",
        "    return f\"Moved {piece_name} ({piece_symbol}) from \"\\\n",
        "    f\"{chess.SQUARE_NAMES[move.from_square]} to \"\\\n",
        "    f\"{chess.SQUARE_NAMES[move.to_square]}.\""
      ],
      "metadata": {
        "id": "cy-px7p7NVoD"
      },
      "execution_count": null,
      "outputs": []
    },
    {
      "cell_type": "markdown",
      "source": [
        "# **Configuring Agents**"
      ],
      "metadata": {
        "id": "wLvbECy3NXiD"
      }
    },
    {
      "cell_type": "code",
      "source": [
        "from autogen import ConversableAgent"
      ],
      "metadata": {
        "id": "9QyRbKK9NbQF"
      },
      "execution_count": null,
      "outputs": []
    },
    {
      "cell_type": "code",
      "source": [
        "# Player white agent\n",
        "player_white = ConversableAgent(\n",
        "    name=\"Player White\",\n",
        "    system_message=\"You are a chess player and you play as white. \"\n",
        "    \"First call get_legal_moves(), to get a list of legal moves. \"\n",
        "    \"Then call make_move(move) to make a move.\",\n",
        "    llm_config=llm_config,\n",
        ")"
      ],
      "metadata": {
        "id": "tBVYQPNQNg0L"
      },
      "execution_count": null,
      "outputs": []
    },
    {
      "cell_type": "code",
      "source": [
        "# Player black agent\n",
        "player_black = ConversableAgent(\n",
        "    name=\"Player Black\",\n",
        "    system_message=\"You are a chess player and you play as black. \"\n",
        "    \"First call get_legal_moves(), to get a list of legal moves. \"\n",
        "    \"Then call make_move(move) to make a move.\",\n",
        "    llm_config=llm_config,\n",
        ")"
      ],
      "metadata": {
        "id": "dcPf8zitNh7O"
      },
      "execution_count": null,
      "outputs": []
    },
    {
      "cell_type": "code",
      "source": [
        "def check_made_move(msg):\n",
        "    global made_move\n",
        "    if made_move:\n",
        "        made_move = False\n",
        "        return True\n",
        "    else:\n",
        "        return False"
      ],
      "metadata": {
        "id": "gsUrz3zDNjYj"
      },
      "execution_count": null,
      "outputs": []
    },
    {
      "cell_type": "code",
      "source": [
        "board_proxy = ConversableAgent(\n",
        "    name=\"Board Proxy\",\n",
        "    llm_config=False,\n",
        "    is_termination_msg=check_made_move,\n",
        "    default_auto_reply=\"Please make a move.\",\n",
        "    human_input_mode=\"NEVER\",\n",
        ")"
      ],
      "metadata": {
        "id": "ye0LrZGmNng8"
      },
      "execution_count": null,
      "outputs": []
    },
    {
      "cell_type": "markdown",
      "source": [
        "# **Registering Tools**"
      ],
      "metadata": {
        "id": "65CUUjG2No9e"
      }
    },
    {
      "cell_type": "code",
      "source": [
        "from autogen import register_function"
      ],
      "metadata": {
        "id": "skSzOSc1Nsii"
      },
      "execution_count": null,
      "outputs": []
    },
    {
      "cell_type": "code",
      "source": [
        "for caller in [player_white, player_black]:\n",
        "    register_function(\n",
        "        get_legal_moves,\n",
        "        caller=caller,\n",
        "        executor=board_proxy,\n",
        "        name=\"get_legal_moves\",\n",
        "        description=\"Get legal moves.\",\n",
        "    )\n",
        "\n",
        "    register_function(\n",
        "        make_move,\n",
        "        caller=caller,\n",
        "        executor=board_proxy,\n",
        "        name=\"make_move\",\n",
        "        description=\"Call this tool to make a move.\",\n",
        "    )"
      ],
      "metadata": {
        "id": "10RY_dIBNw3z"
      },
      "execution_count": null,
      "outputs": []
    },
    {
      "cell_type": "code",
      "source": [
        "player_black.llm_config[\"tools\"]"
      ],
      "metadata": {
        "id": "ybZzvauMNyVl"
      },
      "execution_count": null,
      "outputs": []
    },
    {
      "cell_type": "markdown",
      "source": [
        "# **Register Nested Chats**"
      ],
      "metadata": {
        "id": "-n5L7F9qN1or"
      }
    },
    {
      "cell_type": "code",
      "source": [
        "player_white.register_nested_chats(\n",
        "    trigger=player_black,\n",
        "    chat_queue=[\n",
        "        {\n",
        "            \"sender\": board_proxy,\n",
        "            \"recipient\": player_white,\n",
        "            \"summary_method\": \"last_msg\",\n",
        "        }\n",
        "    ],\n",
        ")\n",
        "\n",
        "player_black.register_nested_chats(\n",
        "    trigger=player_white,\n",
        "    chat_queue=[\n",
        "        {\n",
        "            \"sender\": board_proxy,\n",
        "            \"recipient\": player_black,\n",
        "            \"summary_method\": \"last_msg\",\n",
        "        }\n",
        "    ],\n",
        ")"
      ],
      "metadata": {
        "id": "IquQJPLyN0_8"
      },
      "execution_count": null,
      "outputs": []
    },
    {
      "cell_type": "code",
      "source": [
        "board = chess.Board()\n",
        "\n",
        "chat_result = player_black.initiate_chat(\n",
        "    player_white,\n",
        "    message=\"Let's play chess! Your move.\",\n",
        "    max_turns=2,\n",
        ")"
      ],
      "metadata": {
        "id": "s4sg7ZRAOCrD"
      },
      "execution_count": null,
      "outputs": []
    }
  ]
}