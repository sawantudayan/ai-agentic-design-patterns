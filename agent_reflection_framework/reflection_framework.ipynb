{
  "nbformat": 4,
  "nbformat_minor": 0,
  "metadata": {
    "colab": {
      "provenance": [],
      "authorship_tag": "ABX9TyPHOLW8z2uIPgdEvMdKMczX",
      "include_colab_link": true
    },
    "kernelspec": {
      "name": "python3",
      "display_name": "Python 3"
    },
    "language_info": {
      "name": "python"
    }
  },
  "cells": [
    {
      "cell_type": "markdown",
      "metadata": {
        "id": "view-in-github",
        "colab_type": "text"
      },
      "source": [
        "<a href=\"https://colab.research.google.com/github/sawantudayan/ai-agentic-design-patterns/blob/feature3%2Fagent_reflection_framework/Untitled0.ipynb\" target=\"_parent\"><img src=\"https://colab.research.google.com/assets/colab-badge.svg\" alt=\"Open In Colab\"/></a>"
      ]
    },
    {
      "cell_type": "markdown",
      "source": [
        "# **Reflection and Blogpost Writing**"
      ],
      "metadata": {
        "id": "TvXPaAzDA1fM"
      }
    },
    {
      "cell_type": "code",
      "execution_count": null,
      "metadata": {
        "id": "wXhnpFc2GiGU"
      },
      "outputs": [],
      "source": [
        "llm_config = {\"model\": \"gpt-3.5-turbo\"}"
      ]
    },
    {
      "cell_type": "code",
      "source": [
        "task = '''Write a concise but engaging blogpost about\n",
        "       DeepLearning.AI. Make sure the blogpost is\n",
        "       within 150 words.'''"
      ],
      "metadata": {
        "id": "mfCl-KkUBAlc"
      },
      "execution_count": null,
      "outputs": []
    },
    {
      "cell_type": "markdown",
      "source": [
        "# **Configuring a Writer Agent**"
      ],
      "metadata": {
        "id": "0j670114BLX3"
      }
    },
    {
      "cell_type": "code",
      "source": [
        "import autogen\n",
        "\n",
        "writer = autogen.AssistantAgent(\n",
        "    name=\"Writer\",\n",
        "    system_message=\"You are a writer. You write engaging and concise \"\n",
        "        \"blogpost (with title) on given topics. You must polish your \"\n",
        "        \"writing based on the feedback you receive and give a refined \"\n",
        "        \"version. Only return your final work without additional comments.\",\n",
        "    llm_config=llm_config,\n",
        ")"
      ],
      "metadata": {
        "id": "ICySdha6BGl5"
      },
      "execution_count": null,
      "outputs": []
    },
    {
      "cell_type": "code",
      "source": [
        "reply = writer.generate_reply(messages=[{\"content\":task, \"role\": \"user\"}])\n",
        "print(reply)"
      ],
      "metadata": {
        "id": "o9nYIVP3Bh1m"
      },
      "execution_count": null,
      "outputs": []
    },
    {
      "cell_type": "markdown",
      "source": [
        "# **Adding Reflection**"
      ],
      "metadata": {
        "id": "87LUhcuOByFh"
      }
    },
    {
      "cell_type": "code",
      "source": [
        "critic = autogen.AssistantAgent(\n",
        "    name=\"Critic\",\n",
        "    is_termination_msg=lambda x: x.get(\"content\", \"\").find(\"TERMINATE\") >= 0,\n",
        "    llm_config=llm_config,\n",
        "    system_message=\"You are a critic. You review the work of \"\n",
        "                \"the writer and provide constructive \"\n",
        "                \"feedback to help improve the quality of the content.\",\n",
        ")"
      ],
      "metadata": {
        "id": "MN4g-cRBB1kE"
      },
      "execution_count": null,
      "outputs": []
    },
    {
      "cell_type": "code",
      "source": [
        "res = critic.initiate_chat(\n",
        "    recipient=writer,\n",
        "    message=task,\n",
        "    max_turns=2,\n",
        "    summary_method=\"last_msg\"\n",
        ")"
      ],
      "metadata": {
        "id": "Nsq5exx-B74j"
      },
      "execution_count": null,
      "outputs": []
    },
    {
      "cell_type": "markdown",
      "source": [
        "# **Nested Chat**"
      ],
      "metadata": {
        "id": "87Xyo-EcCBh6"
      }
    },
    {
      "cell_type": "code",
      "source": [
        "SEO_reviewer = autogen.AssistantAgent(\n",
        "    name=\"SEO Reviewer\",\n",
        "    llm_config=llm_config,\n",
        "    system_message=\"You are an SEO reviewer, known for \"\n",
        "        \"your ability to optimize content for search engines, \"\n",
        "        \"ensuring that it ranks well and attracts organic traffic. \"\n",
        "        \"Make sure your suggestion is concise (within 3 bullet points), \"\n",
        "        \"concrete and to the point. \"\n",
        "        \"Begin the review by stating your role.\",\n",
        ")"
      ],
      "metadata": {
        "id": "XHzX6y2mCD3O"
      },
      "execution_count": null,
      "outputs": []
    },
    {
      "cell_type": "code",
      "source": [
        "legal_reviewer = autogen.AssistantAgent(\n",
        "    name=\"Legal Reviewer\",\n",
        "    llm_config=llm_config,\n",
        "    system_message=\"You are a legal reviewer, known for \"\n",
        "        \"your ability to ensure that content is legally compliant \"\n",
        "        \"and free from any potential legal issues. \"\n",
        "        \"Make sure your suggestion is concise (within 3 bullet points), \"\n",
        "        \"concrete and to the point. \"\n",
        "        \"Begin the review by stating your role.\",\n",
        ")"
      ],
      "metadata": {
        "id": "bl6npm0HCGhS"
      },
      "execution_count": null,
      "outputs": []
    },
    {
      "cell_type": "code",
      "source": [
        "ethics_reviewer = autogen.AssistantAgent(\n",
        "    name=\"Ethics Reviewer\",\n",
        "    llm_config=llm_config,\n",
        "    system_message=\"You are an ethics reviewer, known for \"\n",
        "        \"your ability to ensure that content is ethically sound \"\n",
        "        \"and free from any potential ethical issues. \"\n",
        "        \"Make sure your suggestion is concise (within 3 bullet points), \"\n",
        "        \"concrete and to the point. \"\n",
        "        \"Begin the review by stating your role. \",\n",
        ")"
      ],
      "metadata": {
        "id": "vxO4exSPCI0I"
      },
      "execution_count": null,
      "outputs": []
    },
    {
      "cell_type": "code",
      "source": [
        "meta_reviewer = autogen.AssistantAgent(\n",
        "    name=\"Meta Reviewer\",\n",
        "    llm_config=llm_config,\n",
        "    system_message=\"You are a meta reviewer, you aggragate and review \"\n",
        "    \"the work of other reviewers and give a final suggestion on the content.\",\n",
        ")"
      ],
      "metadata": {
        "id": "DU80-ahPCMgB"
      },
      "execution_count": null,
      "outputs": []
    },
    {
      "cell_type": "markdown",
      "source": [
        "# **Orchestrating the nested chats to solve the task**"
      ],
      "metadata": {
        "id": "Mk-inLOBCOJe"
      }
    },
    {
      "cell_type": "code",
      "source": [
        "def reflection_message(recipient, messages, sender, config):\n",
        "    return f'''Review the following content.\n",
        "            \\n\\n {recipient.chat_messages_for_summary(sender)[-1]['content']}'''\n",
        "\n",
        "review_chats = [\n",
        "    {\n",
        "     \"recipient\": SEO_reviewer,\n",
        "     \"message\": reflection_message,\n",
        "     \"summary_method\": \"reflection_with_llm\",\n",
        "     \"summary_args\": {\"summary_prompt\" :\n",
        "        \"Return review into as JSON object only:\"\n",
        "        \"{'Reviewer': '', 'Review': ''}. Here Reviewer should be your role\",},\n",
        "     \"max_turns\": 1},\n",
        "    {\n",
        "    \"recipient\": legal_reviewer, \"message\": reflection_message,\n",
        "     \"summary_method\": \"reflection_with_llm\",\n",
        "     \"summary_args\": {\"summary_prompt\" :\n",
        "        \"Return review into as JSON object only:\"\n",
        "        \"{'Reviewer': '', 'Review': ''}.\",},\n",
        "     \"max_turns\": 1},\n",
        "    {\"recipient\": ethics_reviewer, \"message\": reflection_message,\n",
        "     \"summary_method\": \"reflection_with_llm\",\n",
        "     \"summary_args\": {\"summary_prompt\" :\n",
        "        \"Return review into as JSON object only:\"\n",
        "        \"{'reviewer': '', 'review': ''}\",},\n",
        "     \"max_turns\": 1},\n",
        "     {\"recipient\": meta_reviewer,\n",
        "      \"message\": \"Aggregrate feedback from all reviewers and give final suggestions on the writing.\",\n",
        "     \"max_turns\": 1},\n",
        "]"
      ],
      "metadata": {
        "id": "Ej8vBO7LCVj7"
      },
      "execution_count": null,
      "outputs": []
    },
    {
      "cell_type": "code",
      "source": [
        "critic.register_nested_chats(\n",
        "    review_chats,\n",
        "    trigger=writer,\n",
        ")"
      ],
      "metadata": {
        "id": "T4kmHUzrCYnm"
      },
      "execution_count": null,
      "outputs": []
    },
    {
      "cell_type": "code",
      "source": [
        "res = critic.initiate_chat(\n",
        "    recipient=writer,\n",
        "    message=task,\n",
        "    max_turns=2,\n",
        "    summary_method=\"last_msg\"\n",
        ")"
      ],
      "metadata": {
        "id": "Giacci0ZCaWA"
      },
      "execution_count": null,
      "outputs": []
    },
    {
      "cell_type": "markdown",
      "source": [
        "# **Summary**"
      ],
      "metadata": {
        "id": "GxaDl2QfCbTS"
      }
    },
    {
      "cell_type": "code",
      "source": [
        "print(res.summary)"
      ],
      "metadata": {
        "id": "Z60Gwi47CeXz"
      },
      "execution_count": null,
      "outputs": []
    }
  ]
}