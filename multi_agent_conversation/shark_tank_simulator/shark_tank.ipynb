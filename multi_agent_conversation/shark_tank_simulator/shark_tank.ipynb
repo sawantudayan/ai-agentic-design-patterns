{
 "cells": [
  {
   "cell_type": "markdown",
   "metadata": {},
   "source": [
    "# Multi-Agent Conversation - Shark Tank"
   ]
  },
  {
   "cell_type": "markdown",
   "metadata": {},
   "source": [
    "## Overview of the Shark Tank Simulator\n",
    "\n",
    "- Pitcher: The entrepreneur pitching the idea to the sharks.\n",
    "\n",
    "- Sharks: The investors who will ask questions, negotiate, and decide whether they want to invest or not.\n",
    "\n",
    "The simulation will focus on the Pitcher's idea (startup), the problem it solves, the business metrics (e.g., revenue, equity), and how the sharks interact with the pitcher. Based on certain criteria, the sharks will either make an offer, ask for more details, or decide not to invest."
   ]
  },
  {
   "cell_type": "markdown",
   "metadata": {},
   "source": [
    "## Key Factors for Closing a Deal\n",
    "\n",
    "To simulate decision-making like in the real show, you can add several factors that would influence whether a shark closes a deal. Some of these factors can include:\n",
    "\n",
    "- Revenue and Growth: The Pitcher’s revenue, growth rate, and projections.\n",
    "- Market Potential: The size of the market the startup is targeting.\n",
    "- Profitability: Is the startup already profitable or how close is it?\n",
    "- Uniqueness of the Product: Is the idea innovative? Does it have a competitive edge?\n",
    "- Equity/Valuation: What is the Pitcher asking for in terms of equity and valuation? Will the shark's counteroffer make sense?\n",
    "- Risk Factors: The perceived risks involved (market competition, scalability, etc.).\n",
    "- Pitcher's Personality/Conviction: The Pitcher's passion and conviction can influence how convincing they are."
   ]
  },
  {
   "cell_type": "markdown",
   "metadata": {},
   "source": [
    "## Install & Import Required Libraries"
   ]
  },
  {
   "cell_type": "code",
   "execution_count": null,
   "metadata": {},
   "outputs": [],
   "source": [
    "# Install the necessary libraries\n",
    "%pip install openai\n",
    "%pip install autogen\n",
    "\n",
    "# Import necessary modules\n",
    "import openai\n",
    "from utils import get_openai_api_key\n",
    "from autogen import ConversableAgent\n"
   ]
  },
  {
   "cell_type": "markdown",
   "metadata": {},
   "source": [
    "# Setup OpenAI API Key & Configuration"
   ]
  },
  {
   "cell_type": "code",
   "execution_count": 4,
   "metadata": {},
   "outputs": [],
   "source": [
    "from utils import get_openai_api_key\n",
    "\n",
    "\n",
    "OPEN_API_KEY = get_openai_api_key()\n",
    "openai.api_key = OPEN_API_KEY\n",
    "\n",
    "llm_config = {'model': \"gpt-3.5-turbo\"}"
   ]
  },
  {
   "cell_type": "markdown",
   "metadata": {},
   "source": [
    "# Define the Pitcher (Entrepreneur) Agent"
   ]
  },
  {
   "cell_type": "code",
   "execution_count": null,
   "metadata": {},
   "outputs": [],
   "source": [
    "pitcher = ConversableAgent(\n",
    "    name=\"Udayan Sawant\",\n",
    "    system_message=\"You're an entreprenuer pitching your startup idea to the sharks. Explain the problem you're solving, how your startup works, and what you need from the investors.\",\n",
    "    llm_config=llm_config,\n",
    "    human_input_mode=\"NEVER\"\n",
    ")\n",
    "\n",
    "pitcher_message = \"\"\"Hi Sharks! My name is Udayan Sawant, I'm from San Jose, CA, and I'm here to pitch my startup. We're building a mobile app that helps people discover local events based on their interests. \n",
    "The problem we're solving is that people miss out on events because they're not easily discoverable. \n",
    "We are asking for $500,000 for 10% equity in our company. Our revenue last year was $1M, and we expect to triple that next year.\"\"\"\n",
    "\n",
    "\n",
    "# Initiating a chat with the Pitcher\n",
    "pitcher_message_result = pitcher.initiate_chat(\n",
    "    recipient=None,\n",
    "    message=pitcher_message,\n",
    "    max_turns=3\n",
    ")\n",
    "\n",
    "\n",
    "pitcher_message_result.chat_history"
   ]
  },
  {
   "cell_type": "markdown",
   "metadata": {},
   "source": [
    "# Defining Shark 1 Agent - Kevin O'Leary"
   ]
  },
  {
   "cell_type": "code",
   "execution_count": null,
   "metadata": {},
   "outputs": [],
   "source": [
    "shark1 = ConversableAgent(\n",
    "    name=\"Kevin O'Leary\",\n",
    "    system_message=\"You are an investor on Shark Tank. Ask the Pitcher about their business model, market, and ask tough questions to assess if the business is worth investing in.\"\n",
    "    \"Start the next question from the counter answer/ explaination of the pitcher\",\n",
    "    llm_config=llm_config,\n",
    "    human_input_mode=\"NEVER\"\n",
    ")\n",
    "\n",
    "# Shark 1's question to the pitcher\n",
    "shark1_question = \"What makes you think your product will be successful in a crowded market?, how are you planning to scale this? What are the main hurdles you see in growing this business?\"\n",
    "\n",
    "# Shark 1 initiating a conversation with the Pitcher\n",
    "shark1_message_result = shark1.initiate_chat(\n",
    "    recipient=pitcher,\n",
    "    message=shark1_question,\n",
    "    max_turns=3\n",
    ")\n",
    "\n",
    "shark1_message_result.chat_history"
   ]
  },
  {
   "cell_type": "markdown",
   "metadata": {},
   "source": [
    "# Defining Shark 2 Agent - Lori Greiner"
   ]
  },
  {
   "cell_type": "code",
   "execution_count": null,
   "metadata": {},
   "outputs": [],
   "source": [
    "shark2 = ConversableAgent(\n",
    "    name=\"Lori Greiner\",\n",
    "    system_message=\"You are an investor on Shark Tank. Ask the Pitcher about their revenue, growth, and why you should invest.\"\n",
    "    \"Start the next question from the counter answer/ explaination of the pitcher\",\n",
    "    llm_config=llm_config,\n",
    "    human_input_mode=\"NEVER\"\n",
    ")\n",
    "\n",
    "# Shark 2's question to the pitcher\n",
    "shark2_question = \"What makes your app different from other event-discovery apps? Do you have any partnerships with event organizers or ticketing companies?\"\n",
    "\n",
    "# Shark 2 initiating a conversation with the Pitcher\n",
    "shark2_message_result = shark2.initiate_chat(\n",
    "    recipient=pitcher,\n",
    "    message=shark2_question,\n",
    "    max_turns=3\n",
    ")\n",
    "\n",
    "shark2_message_result.chat_history"
   ]
  },
  {
   "cell_type": "markdown",
   "metadata": {},
   "source": [
    "# Sharks Making Investment Offers"
   ]
  },
  {
   "cell_type": "code",
   "execution_count": null,
   "metadata": {},
   "outputs": [],
   "source": [
    "# Investment Offers\n",
    "shark1_offer = \"Udayan, I think this is a great idea, but I want to see more traction. I'll offer you $500,000 for 20% equity. What do you say ?\"\n",
    "\n",
    "shark2_offer = \"I’m very interested, but I want to see a little more proof of concept. I'll offer $500,000 for 15% equity. Are you open to negotiating?\"\n",
    "\n",
    "\n",
    "shark1_offer_result = shark1.initiate_chat(\n",
    "    recipient=pitcher,\n",
    "    message=shark1_offer,\n",
    "    max_turns=1\n",
    ")\n",
    "\n",
    "shark2_offer_result = shark2.initiate_chat(\n",
    "    recipient=pitcher,\n",
    "    message=shark2_offer,\n",
    "    max_turns=1\n",
    ")\n",
    "\n",
    "\n",
    "shark1_offer_result.chat_history\n",
    "shark2_offer_result.chat_history"
   ]
  },
  {
   "cell_type": "markdown",
   "metadata": {},
   "source": [
    "# Picther's Response to Offers"
   ]
  },
  {
   "cell_type": "code",
   "execution_count": null,
   "metadata": {},
   "outputs": [],
   "source": [
    "# Pitcher's Acceptance of Shark 1's Offer\n",
    "pitcher_accepts_shark1 = \"I agree to the terms. Let's close the deal for 20% equity.\"\n",
    "\n",
    "# Pitcher's Counter-Offer to Shark 1\n",
    "pitcher_counter_offer = \"I appreciate the offer, but I was hoping for a little less equity. How about 15% for $500,000?\"\n",
    "\n",
    "# Pitcher responding to Shark 1\n",
    "pitcher_accepts_shark1_result = pitcher.initiate_chat(\n",
    "    recipient=shark1,\n",
    "    message=pitcher_accepts_shark1,\n",
    "    max_turns=1\n",
    ")\n",
    "\n",
    "# Pitcher responding to Shark 2\n",
    "pitcher_counter_offer_result = pitcher.initiate_chat(\n",
    "    recipient=shark1,\n",
    "    message=pitcher_counter_offer,\n",
    "    max_turns=1\n",
    ")\n",
    "\n",
    "pitcher_accepts_shark1_result.chat_history\n",
    "pitcher_counter_offer_result.chat_history\n"
   ]
  },
  {
   "cell_type": "markdown",
   "metadata": {},
   "source": [
    "# Conversation Termination"
   ]
  },
  {
   "cell_type": "code",
   "execution_count": null,
   "metadata": {},
   "outputs": [],
   "source": [
    "# End the conversation when Pitcher decides it's time to close\n",
    "pitcher_termination = \"Alright, thanks for the opportunity. I will think about your offers.\"\n",
    "\n",
    "# Define termination condition for Pitcher (if they end the chat)\n",
    "pitcher.is_termination_msg = lambda msg: \"Alright, thanks for the opportunity.\" in msg[\"content\"]\n",
    "\n",
    "# Test the termination message\n",
    "termination_test_result = pitcher.initiate_chat(\n",
    "    recipient=None,\n",
    "    message=pitcher_termination,\n",
    "    max_turns=1\n",
    ")\n",
    "\n",
    "# Check the termination message result\n",
    "termination_test_result.chat_history\n"
   ]
  }
 ],
 "metadata": {
  "kernelspec": {
   "display_name": "Python 3",
   "language": "python",
   "name": "python3"
  },
  "language_info": {
   "codemirror_mode": {
    "name": "ipython",
    "version": 3
   },
   "file_extension": ".py",
   "mimetype": "text/x-python",
   "name": "python",
   "nbconvert_exporter": "python",
   "pygments_lexer": "ipython3",
   "version": "3.12.3"
  }
 },
 "nbformat": 4,
 "nbformat_minor": 2
}
