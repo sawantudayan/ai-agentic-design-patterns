{
 "cells": [
  {
   "cell_type": "markdown",
   "metadata": {},
   "source": [
    "# Multi-Agent Conversation and Stand-up Comedy"
   ]
  },
  {
   "cell_type": "markdown",
   "metadata": {},
   "source": [
    "# 1. Setup"
   ]
  },
  {
   "cell_type": "code",
   "execution_count": null,
   "metadata": {},
   "outputs": [],
   "source": [
    "import openai\n",
    "from utils import get_openai_api_key\n",
    "\n",
    "OPEN_API_KEY = get_openai_api_key()\n",
    "openai.api_key = OPEN_API_KEY\n",
    "\n",
    "llm_config = {'model': \"gpt-3.5-turbo\"}\n"
   ]
  },
  {
   "cell_type": "markdown",
   "metadata": {},
   "source": [
    "# Define an AutoGen Agent"
   ]
  },
  {
   "cell_type": "code",
   "execution_count": null,
   "metadata": {},
   "outputs": [],
   "source": [
    "from autogen import ConversableAgent\n",
    "\n",
    "agent = ConversableAgent(\n",
    "    name=\"my_chatbot\",\n",
    "    llm_config=llm_config,\n",
    "    human_input_mode=\"NEVER\"\n",
    ")"
   ]
  },
  {
   "cell_type": "code",
   "execution_count": null,
   "metadata": {},
   "outputs": [],
   "source": [
    "reply = agent.generate_reply(\n",
    "    messages=[{\"content\": \"Tell me a joke\", \"role\": \"user\"}]\n",
    ")\n",
    "\n",
    "#print(reply)"
   ]
  },
  {
   "cell_type": "code",
   "execution_count": null,
   "metadata": {},
   "outputs": [],
   "source": [
    "reply = agent.generate_reply(\n",
    "    messages=[{\"content\": \"Repeat the joke\", \"role\": \"user\"}]\n",
    ")\n",
    "\n",
    "#print(reply)"
   ]
  },
  {
   "cell_type": "markdown",
   "metadata": {},
   "source": [
    "# Conversation"
   ]
  },
  {
   "cell_type": "code",
   "execution_count": null,
   "metadata": {},
   "outputs": [],
   "source": [
    "# Comedian 1\n",
    "samay = ConversableAgent(\n",
    "    name=\"samay_raina\",\n",
    "    system_message=\"Your Name is Samay Raina and you are a stand-up comedian\",\n",
    "    llm_config=llm_config,\n",
    "    human_input_mode=\"NEVER\"\n",
    ")\n",
    "\n",
    "# Comedian 2\n",
    "maheep = ConversableAgent(\n",
    "    name=\"maheep_singh\",\n",
    "    system_message=\"Your Name is Maheep Singh and you are a stand-up comedian.\" \n",
    "    \"Start the next jone from the puncling of the previous joke.\",\n",
    "    llm_config=llm_config,\n",
    "    human_input_mode=\"NEVER\"\n",
    ")"
   ]
  },
  {
   "cell_type": "code",
   "execution_count": null,
   "metadata": {},
   "outputs": [],
   "source": [
    "chat_result = maheep.initiate_chat(\n",
    "    recipient=samay,\n",
    "    message=\"I'm Maheep Singh. Samay, let's keep the jokes rolling.\",\n",
    "    max_turns=2,\n",
    ")"
   ]
  },
  {
   "cell_type": "markdown",
   "metadata": {},
   "source": [
    "# Summarization"
   ]
  },
  {
   "cell_type": "code",
   "execution_count": null,
   "metadata": {},
   "outputs": [],
   "source": [
    "import pprint\n",
    "\n",
    "pprint.pprint(chat_result.chat_history)\n",
    "pprint.pprint(chat_result.cost)\n",
    "pprint.pprint(chat_result.summary)\n"
   ]
  },
  {
   "cell_type": "code",
   "execution_count": null,
   "metadata": {},
   "outputs": [],
   "source": [
    "chat_result = maheep.initiate_chat(\n",
    "    samay, \n",
    "    message=\"I'm Maheep Singh. Samay, let's keep the jokes rolling.\",\n",
    "    max_turns=2, \n",
    "    summary_method=\"reflection_with_llm\",\n",
    "    summary_prompt=\"Summarize the conversation\",\n",
    ")\n",
    "\n",
    "pprint.pprint(chat_result.summary)"
   ]
  },
  {
   "cell_type": "markdown",
   "metadata": {},
   "source": [
    "# Chat Termination"
   ]
  },
  {
   "cell_type": "code",
   "execution_count": null,
   "metadata": {},
   "outputs": [],
   "source": [
    "samay = ConversableAgent(\n",
    "    name=\"samay_raina\",\n",
    "    system_message=\n",
    "    \"Your name is Samay Raina and you are a stand-up comedian. \"\n",
    "    \"When you're ready to end the conversation, say 'Alright....'.\",\n",
    "    llm_config=llm_config,\n",
    "    human_input_mode=\"NEVER\",\n",
    "    is_termination_msg=lambda msg: \"Alright....\" in msg[\"content\"],\n",
    ")\n",
    "\n",
    "maheep = ConversableAgent(\n",
    "    name=\"maheep_singh\",\n",
    "    system_message=\n",
    "    \"Your name is Maheep Singh and you are a stand-up comedian. \"\n",
    "    \"When you're ready to end the conversation, say 'Accha..Mummy kaisi hai ?'.\",\n",
    "    llm_config=llm_config,\n",
    "    human_input_mode=\"NEVER\",\n",
    "    is_termination_msg=lambda msg: \"Accha..Mummy kaisi hai ?\" in msg[\"content\"] or \"Likho..98\" in msg[\"content\"],\n",
    ")"
   ]
  },
  {
   "cell_type": "code",
   "execution_count": null,
   "metadata": {},
   "outputs": [],
   "source": [
    "chat_result = maheep.initiate_chat(\n",
    "    recipient=samay,\n",
    "    message=\"I'm Maheep Singh. Samay, let's keep the jokes rolling.\"\n",
    ")"
   ]
  },
  {
   "cell_type": "code",
   "execution_count": null,
   "metadata": {},
   "outputs": [],
   "source": [
    "samay.send(message=\"What's last joke we talked about?\", recipient=maheep)"
   ]
  }
 ],
 "metadata": {
  "kernelspec": {
   "display_name": "Python 3",
   "language": "python",
   "name": "python3"
  },
  "language_info": {
   "codemirror_mode": {
    "name": "ipython",
    "version": 3
   },
   "file_extension": ".py",
   "mimetype": "text/x-python",
   "name": "python",
   "nbconvert_exporter": "python",
   "pygments_lexer": "ipython3",
   "version": "3.12.3"
  }
 },
 "nbformat": 4,
 "nbformat_minor": 2
}
